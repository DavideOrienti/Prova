{
 "cells": [
  {
   "cell_type": "markdown",
   "id": "cb4edfc9",
   "metadata": {},
   "source": [
    "edededede"
   ]
  },
  {
   "cell_type": "code",
   "execution_count": null,
   "metadata": {
    "vscode": {
     "languageId": "plaintext"
    }
   },
   "outputs": [],
   "source": [
    "dedededede"
   ]
  },
  {
   "cell_type": "code",
   "execution_count": null,
   "id": "fe5dea6e",
   "metadata": {},
   "outputs": [],
   "source": [
    "ededede\n",
    "\n",
    "dede\n",
    "d\n",
    "ed\n",
    "e\n",
    "de\n",
    "d\n",
    "ed\n",
    "ed\n"
   ]
  }
 ],
 "metadata": {
  "language_info": {
   "name": "python"
  }
 },
 "nbformat": 4,
 "nbformat_minor": 5
}
