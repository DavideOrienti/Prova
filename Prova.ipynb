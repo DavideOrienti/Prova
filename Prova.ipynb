{
 "cells": [
  {
   "cell_type": "markdown",
   "id": "cb4edfc9",
   "metadata": {},
   "source": [
    "edededede"
   ]
  },
  {
   "cell_type": "code",
   "execution_count": null,
   "metadata": {
    "vscode": {
     "languageId": "plaintext"
    }
   },
   "outputs": [],
   "source": [
    "dedededede"
   ]
  },
  {
   "cell_type": "code",
   "execution_count": null,
   "id": "fe5dea6e",
   "metadata": {},
   "outputs": [],
   "source": [
    "ededede\n",
    "\n",
    "dede\n",
    "d\n",
    "ed\n",
    "e\n",
    "de\n",
    "d\n",
    "ed\n",
    "ed\n"
   ]
  },
  {
   "cell_type": "code",
   "execution_count": null,
   "id": "a85ba6c9",
   "metadata": {},
   "outputs": [],
   "source": [
    "dedededehbhbkjbjkj"
   ]
  },
  {
   "cell_type": "code",
   "execution_count": null,
   "id": "a94cef3b",
   "metadata": {},
   "outputs": [],
   "source": [
    "dedxsxsxsxsededwdwdwdw"
   ]
  },
  {
   "cell_type": "code",
   "execution_count": null,
   "id": "46c6abb9",
   "metadata": {},
   "outputs": [],
   "source": []
  }
 ],
 "metadata": {
  "language_info": {
   "name": "python"
  }
 },
 "nbformat": 4,
 "nbformat_minor": 5
}
